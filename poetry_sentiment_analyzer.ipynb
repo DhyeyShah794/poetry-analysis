{
  "cells": [
    {
      "cell_type": "markdown",
      "metadata": {
        "id": "view-in-github",
        "colab_type": "text"
      },
      "source": [
        "<a href=\"https://colab.research.google.com/github/DhyeyShah794/poetry-analysis/blob/master/poetry_sentiment_analyzer.ipynb\" target=\"_parent\"><img src=\"https://colab.research.google.com/assets/colab-badge.svg\" alt=\"Open In Colab\"/></a>"
      ]
    },
    {
      "cell_type": "code",
      "source": [
        "%pip install sentence-transformers -q"
      ],
      "metadata": {
        "id": "iGxmP6jtGIZ6"
      },
      "execution_count": null,
      "outputs": []
    },
    {
      "cell_type": "code",
      "execution_count": null,
      "metadata": {
        "id": "zwFizd-Nh7mv"
      },
      "outputs": [],
      "source": [
        "import pandas as pd\n",
        "import matplotlib.pyplot as plt\n",
        "import re\n",
        "from ast import literal_eval\n",
        "from sentence_transformers import SentenceTransformer, util\n",
        "from itertools import combinations"
      ]
    },
    {
      "cell_type": "code",
      "execution_count": null,
      "metadata": {
        "id": "KTUyFeevitej"
      },
      "outputs": [],
      "source": [
        "data = pd.read_csv('https://raw.githubusercontent.com/DhyeyShah794/poetry-analysis/master/data.csv')"
      ]
    },
    {
      "cell_type": "code",
      "execution_count": null,
      "metadata": {
        "colab": {
          "base_uri": "https://localhost:8080/",
          "height": 536
        },
        "id": "A_yYmrOXi3L5",
        "outputId": "04edd308-1c66-4c58-a7f7-1b08245a0fc2"
      },
      "outputs": [
        {
          "output_type": "execute_result",
          "data": {
            "text/plain": [
              "                                                 url  \\\n",
              "0  https://allpoetry.com/poem/17507453-s-q-u-e-l-...   \n",
              "1  https://allpoetry.com/poem/17502390-A-haiku-ab...   \n",
              "2  https://allpoetry.com/poem/17499955-a-d-o-n-i-...   \n",
              "3  https://allpoetry.com/poem/17499568-creating-b...   \n",
              "4  https://allpoetry.com/poem/17494731-w-o-a-h-by...   \n",
              "5  https://allpoetry.com/poem/17494723-The-Ivy-Qu...   \n",
              "6  https://allpoetry.com/poem/17490821-The-Job-Se...   \n",
              "7  https://allpoetry.com/poem/17490034-Grief--Acr...   \n",
              "8  https://allpoetry.com/poem/17488484-Nebraska--...   \n",
              "9  https://allpoetry.com/poem/17487470-Reflection...   \n",
              "\n",
              "                      title  \\\n",
              "0             s q u e l c h   \n",
              "1       A haiku about a hat   \n",
              "2               a d o n i s   \n",
              "3                  creating   \n",
              "4                   w o a h   \n",
              "5             The Ivy Queen   \n",
              "6            The Job Search   \n",
              "7          Grief (Acrostic)   \n",
              "8  Nebraska (Acrostic Poem)   \n",
              "9     Reflection (acrostic)   \n",
              "\n",
              "                                                poem  \\\n",
              "0    s odden ground sounds\\nq uenched earth belch...   \n",
              "1  Hair under my rim\\nAppalling mind below me\\nTh...   \n",
              "2    a k.a tammuz\\nancient hearttrob\\ncanaanite y...   \n",
              "3  i strive and slave and\\nwill characters onto s...   \n",
              "4    wanda's orgasmic antique hatstand\\nwolfgang'...   \n",
              "5  Ugly\\nNose of\\nIvy\\nQueen blew greens,\\nUntil ...   \n",
              "6  Under fluorescents\\nNervousness knits\\nI have ...   \n",
              "7    Grief greatly groans, grappling injustice\\nR...   \n",
              "8  New days blossom with blessings\\nEarly blazing...   \n",
              "9  Remembering the sunshine days\\nEffervescent me...   \n",
              "\n",
              "                       categories  \n",
              "0                    ['acrostic']  \n",
              "1  ['haiku', 'acrostic', 'humor']  \n",
              "2                    ['acrostic']  \n",
              "3           ['haiku', 'acrostic']  \n",
              "4                    ['acrostic']  \n",
              "5                    ['acrostic']  \n",
              "6            ['acrostic', 'hope']  \n",
              "7            ['acrostic', 'pain']  \n",
              "8          ['acrostic', 'nature']  \n",
              "9  ['poetry', 'acrostic', 'love']  "
            ],
            "text/html": [
              "\n",
              "  <div id=\"df-0c158864-fdea-446e-b159-30d30bb5a1ff\" class=\"colab-df-container\">\n",
              "    <div>\n",
              "<style scoped>\n",
              "    .dataframe tbody tr th:only-of-type {\n",
              "        vertical-align: middle;\n",
              "    }\n",
              "\n",
              "    .dataframe tbody tr th {\n",
              "        vertical-align: top;\n",
              "    }\n",
              "\n",
              "    .dataframe thead th {\n",
              "        text-align: right;\n",
              "    }\n",
              "</style>\n",
              "<table border=\"1\" class=\"dataframe\">\n",
              "  <thead>\n",
              "    <tr style=\"text-align: right;\">\n",
              "      <th></th>\n",
              "      <th>url</th>\n",
              "      <th>title</th>\n",
              "      <th>poem</th>\n",
              "      <th>categories</th>\n",
              "    </tr>\n",
              "  </thead>\n",
              "  <tbody>\n",
              "    <tr>\n",
              "      <th>0</th>\n",
              "      <td>https://allpoetry.com/poem/17507453-s-q-u-e-l-...</td>\n",
              "      <td>s q u e l c h</td>\n",
              "      <td>s odden ground sounds\\nq uenched earth belch...</td>\n",
              "      <td>['acrostic']</td>\n",
              "    </tr>\n",
              "    <tr>\n",
              "      <th>1</th>\n",
              "      <td>https://allpoetry.com/poem/17502390-A-haiku-ab...</td>\n",
              "      <td>A haiku about a hat</td>\n",
              "      <td>Hair under my rim\\nAppalling mind below me\\nTh...</td>\n",
              "      <td>['haiku', 'acrostic', 'humor']</td>\n",
              "    </tr>\n",
              "    <tr>\n",
              "      <th>2</th>\n",
              "      <td>https://allpoetry.com/poem/17499955-a-d-o-n-i-...</td>\n",
              "      <td>a d o n i s</td>\n",
              "      <td>a k.a tammuz\\nancient hearttrob\\ncanaanite y...</td>\n",
              "      <td>['acrostic']</td>\n",
              "    </tr>\n",
              "    <tr>\n",
              "      <th>3</th>\n",
              "      <td>https://allpoetry.com/poem/17499568-creating-b...</td>\n",
              "      <td>creating</td>\n",
              "      <td>i strive and slave and\\nwill characters onto s...</td>\n",
              "      <td>['haiku', 'acrostic']</td>\n",
              "    </tr>\n",
              "    <tr>\n",
              "      <th>4</th>\n",
              "      <td>https://allpoetry.com/poem/17494731-w-o-a-h-by...</td>\n",
              "      <td>w o a h</td>\n",
              "      <td>wanda's orgasmic antique hatstand\\nwolfgang'...</td>\n",
              "      <td>['acrostic']</td>\n",
              "    </tr>\n",
              "    <tr>\n",
              "      <th>5</th>\n",
              "      <td>https://allpoetry.com/poem/17494723-The-Ivy-Qu...</td>\n",
              "      <td>The Ivy Queen</td>\n",
              "      <td>Ugly\\nNose of\\nIvy\\nQueen blew greens,\\nUntil ...</td>\n",
              "      <td>['acrostic']</td>\n",
              "    </tr>\n",
              "    <tr>\n",
              "      <th>6</th>\n",
              "      <td>https://allpoetry.com/poem/17490821-The-Job-Se...</td>\n",
              "      <td>The Job Search</td>\n",
              "      <td>Under fluorescents\\nNervousness knits\\nI have ...</td>\n",
              "      <td>['acrostic', 'hope']</td>\n",
              "    </tr>\n",
              "    <tr>\n",
              "      <th>7</th>\n",
              "      <td>https://allpoetry.com/poem/17490034-Grief--Acr...</td>\n",
              "      <td>Grief (Acrostic)</td>\n",
              "      <td>Grief greatly groans, grappling injustice\\nR...</td>\n",
              "      <td>['acrostic', 'pain']</td>\n",
              "    </tr>\n",
              "    <tr>\n",
              "      <th>8</th>\n",
              "      <td>https://allpoetry.com/poem/17488484-Nebraska--...</td>\n",
              "      <td>Nebraska (Acrostic Poem)</td>\n",
              "      <td>New days blossom with blessings\\nEarly blazing...</td>\n",
              "      <td>['acrostic', 'nature']</td>\n",
              "    </tr>\n",
              "    <tr>\n",
              "      <th>9</th>\n",
              "      <td>https://allpoetry.com/poem/17487470-Reflection...</td>\n",
              "      <td>Reflection (acrostic)</td>\n",
              "      <td>Remembering the sunshine days\\nEffervescent me...</td>\n",
              "      <td>['poetry', 'acrostic', 'love']</td>\n",
              "    </tr>\n",
              "  </tbody>\n",
              "</table>\n",
              "</div>\n",
              "    <div class=\"colab-df-buttons\">\n",
              "\n",
              "  <div class=\"colab-df-container\">\n",
              "    <button class=\"colab-df-convert\" onclick=\"convertToInteractive('df-0c158864-fdea-446e-b159-30d30bb5a1ff')\"\n",
              "            title=\"Convert this dataframe to an interactive table.\"\n",
              "            style=\"display:none;\">\n",
              "\n",
              "  <svg xmlns=\"http://www.w3.org/2000/svg\" height=\"24px\" viewBox=\"0 -960 960 960\">\n",
              "    <path d=\"M120-120v-720h720v720H120Zm60-500h600v-160H180v160Zm220 220h160v-160H400v160Zm0 220h160v-160H400v160ZM180-400h160v-160H180v160Zm440 0h160v-160H620v160ZM180-180h160v-160H180v160Zm440 0h160v-160H620v160Z\"/>\n",
              "  </svg>\n",
              "    </button>\n",
              "\n",
              "  <style>\n",
              "    .colab-df-container {\n",
              "      display:flex;\n",
              "      gap: 12px;\n",
              "    }\n",
              "\n",
              "    .colab-df-convert {\n",
              "      background-color: #E8F0FE;\n",
              "      border: none;\n",
              "      border-radius: 50%;\n",
              "      cursor: pointer;\n",
              "      display: none;\n",
              "      fill: #1967D2;\n",
              "      height: 32px;\n",
              "      padding: 0 0 0 0;\n",
              "      width: 32px;\n",
              "    }\n",
              "\n",
              "    .colab-df-convert:hover {\n",
              "      background-color: #E2EBFA;\n",
              "      box-shadow: 0px 1px 2px rgba(60, 64, 67, 0.3), 0px 1px 3px 1px rgba(60, 64, 67, 0.15);\n",
              "      fill: #174EA6;\n",
              "    }\n",
              "\n",
              "    .colab-df-buttons div {\n",
              "      margin-bottom: 4px;\n",
              "    }\n",
              "\n",
              "    [theme=dark] .colab-df-convert {\n",
              "      background-color: #3B4455;\n",
              "      fill: #D2E3FC;\n",
              "    }\n",
              "\n",
              "    [theme=dark] .colab-df-convert:hover {\n",
              "      background-color: #434B5C;\n",
              "      box-shadow: 0px 1px 3px 1px rgba(0, 0, 0, 0.15);\n",
              "      filter: drop-shadow(0px 1px 2px rgba(0, 0, 0, 0.3));\n",
              "      fill: #FFFFFF;\n",
              "    }\n",
              "  </style>\n",
              "\n",
              "    <script>\n",
              "      const buttonEl =\n",
              "        document.querySelector('#df-0c158864-fdea-446e-b159-30d30bb5a1ff button.colab-df-convert');\n",
              "      buttonEl.style.display =\n",
              "        google.colab.kernel.accessAllowed ? 'block' : 'none';\n",
              "\n",
              "      async function convertToInteractive(key) {\n",
              "        const element = document.querySelector('#df-0c158864-fdea-446e-b159-30d30bb5a1ff');\n",
              "        const dataTable =\n",
              "          await google.colab.kernel.invokeFunction('convertToInteractive',\n",
              "                                                    [key], {});\n",
              "        if (!dataTable) return;\n",
              "\n",
              "        const docLinkHtml = 'Like what you see? Visit the ' +\n",
              "          '<a target=\"_blank\" href=https://colab.research.google.com/notebooks/data_table.ipynb>data table notebook</a>'\n",
              "          + ' to learn more about interactive tables.';\n",
              "        element.innerHTML = '';\n",
              "        dataTable['output_type'] = 'display_data';\n",
              "        await google.colab.output.renderOutput(dataTable, element);\n",
              "        const docLink = document.createElement('div');\n",
              "        docLink.innerHTML = docLinkHtml;\n",
              "        element.appendChild(docLink);\n",
              "      }\n",
              "    </script>\n",
              "  </div>\n",
              "\n",
              "\n",
              "<div id=\"df-96e91ea7-4a8b-46a1-a394-1a8efe14ef14\">\n",
              "  <button class=\"colab-df-quickchart\" onclick=\"quickchart('df-96e91ea7-4a8b-46a1-a394-1a8efe14ef14')\"\n",
              "            title=\"Suggest charts\"\n",
              "            style=\"display:none;\">\n",
              "\n",
              "<svg xmlns=\"http://www.w3.org/2000/svg\" height=\"24px\"viewBox=\"0 0 24 24\"\n",
              "     width=\"24px\">\n",
              "    <g>\n",
              "        <path d=\"M19 3H5c-1.1 0-2 .9-2 2v14c0 1.1.9 2 2 2h14c1.1 0 2-.9 2-2V5c0-1.1-.9-2-2-2zM9 17H7v-7h2v7zm4 0h-2V7h2v10zm4 0h-2v-4h2v4z\"/>\n",
              "    </g>\n",
              "</svg>\n",
              "  </button>\n",
              "\n",
              "<style>\n",
              "  .colab-df-quickchart {\n",
              "      --bg-color: #E8F0FE;\n",
              "      --fill-color: #1967D2;\n",
              "      --hover-bg-color: #E2EBFA;\n",
              "      --hover-fill-color: #174EA6;\n",
              "      --disabled-fill-color: #AAA;\n",
              "      --disabled-bg-color: #DDD;\n",
              "  }\n",
              "\n",
              "  [theme=dark] .colab-df-quickchart {\n",
              "      --bg-color: #3B4455;\n",
              "      --fill-color: #D2E3FC;\n",
              "      --hover-bg-color: #434B5C;\n",
              "      --hover-fill-color: #FFFFFF;\n",
              "      --disabled-bg-color: #3B4455;\n",
              "      --disabled-fill-color: #666;\n",
              "  }\n",
              "\n",
              "  .colab-df-quickchart {\n",
              "    background-color: var(--bg-color);\n",
              "    border: none;\n",
              "    border-radius: 50%;\n",
              "    cursor: pointer;\n",
              "    display: none;\n",
              "    fill: var(--fill-color);\n",
              "    height: 32px;\n",
              "    padding: 0;\n",
              "    width: 32px;\n",
              "  }\n",
              "\n",
              "  .colab-df-quickchart:hover {\n",
              "    background-color: var(--hover-bg-color);\n",
              "    box-shadow: 0 1px 2px rgba(60, 64, 67, 0.3), 0 1px 3px 1px rgba(60, 64, 67, 0.15);\n",
              "    fill: var(--button-hover-fill-color);\n",
              "  }\n",
              "\n",
              "  .colab-df-quickchart-complete:disabled,\n",
              "  .colab-df-quickchart-complete:disabled:hover {\n",
              "    background-color: var(--disabled-bg-color);\n",
              "    fill: var(--disabled-fill-color);\n",
              "    box-shadow: none;\n",
              "  }\n",
              "\n",
              "  .colab-df-spinner {\n",
              "    border: 2px solid var(--fill-color);\n",
              "    border-color: transparent;\n",
              "    border-bottom-color: var(--fill-color);\n",
              "    animation:\n",
              "      spin 1s steps(1) infinite;\n",
              "  }\n",
              "\n",
              "  @keyframes spin {\n",
              "    0% {\n",
              "      border-color: transparent;\n",
              "      border-bottom-color: var(--fill-color);\n",
              "      border-left-color: var(--fill-color);\n",
              "    }\n",
              "    20% {\n",
              "      border-color: transparent;\n",
              "      border-left-color: var(--fill-color);\n",
              "      border-top-color: var(--fill-color);\n",
              "    }\n",
              "    30% {\n",
              "      border-color: transparent;\n",
              "      border-left-color: var(--fill-color);\n",
              "      border-top-color: var(--fill-color);\n",
              "      border-right-color: var(--fill-color);\n",
              "    }\n",
              "    40% {\n",
              "      border-color: transparent;\n",
              "      border-right-color: var(--fill-color);\n",
              "      border-top-color: var(--fill-color);\n",
              "    }\n",
              "    60% {\n",
              "      border-color: transparent;\n",
              "      border-right-color: var(--fill-color);\n",
              "    }\n",
              "    80% {\n",
              "      border-color: transparent;\n",
              "      border-right-color: var(--fill-color);\n",
              "      border-bottom-color: var(--fill-color);\n",
              "    }\n",
              "    90% {\n",
              "      border-color: transparent;\n",
              "      border-bottom-color: var(--fill-color);\n",
              "    }\n",
              "  }\n",
              "</style>\n",
              "\n",
              "  <script>\n",
              "    async function quickchart(key) {\n",
              "      const quickchartButtonEl =\n",
              "        document.querySelector('#' + key + ' button');\n",
              "      quickchartButtonEl.disabled = true;  // To prevent multiple clicks.\n",
              "      quickchartButtonEl.classList.add('colab-df-spinner');\n",
              "      try {\n",
              "        const charts = await google.colab.kernel.invokeFunction(\n",
              "            'suggestCharts', [key], {});\n",
              "      } catch (error) {\n",
              "        console.error('Error during call to suggestCharts:', error);\n",
              "      }\n",
              "      quickchartButtonEl.classList.remove('colab-df-spinner');\n",
              "      quickchartButtonEl.classList.add('colab-df-quickchart-complete');\n",
              "    }\n",
              "    (() => {\n",
              "      let quickchartButtonEl =\n",
              "        document.querySelector('#df-96e91ea7-4a8b-46a1-a394-1a8efe14ef14 button');\n",
              "      quickchartButtonEl.style.display =\n",
              "        google.colab.kernel.accessAllowed ? 'block' : 'none';\n",
              "    })();\n",
              "  </script>\n",
              "</div>\n",
              "\n",
              "    </div>\n",
              "  </div>\n"
            ]
          },
          "metadata": {},
          "execution_count": 102
        }
      ],
      "source": [
        "data.head(10)"
      ]
    },
    {
      "cell_type": "code",
      "execution_count": null,
      "metadata": {
        "colab": {
          "base_uri": "https://localhost:8080/"
        },
        "id": "R_rjrzCHj8Fa",
        "outputId": "08550dbb-faf9-48fa-f440-9060de3b721d"
      },
      "outputs": [
        {
          "output_type": "execute_result",
          "data": {
            "text/plain": [
              "(63731, 4)"
            ]
          },
          "metadata": {},
          "execution_count": 103
        }
      ],
      "source": [
        "data.shape"
      ]
    },
    {
      "cell_type": "code",
      "execution_count": null,
      "metadata": {
        "colab": {
          "base_uri": "https://localhost:8080/",
          "height": 175
        },
        "id": "KLqlKHDAxk_0",
        "outputId": "901d62b5-cfc6-4cba-de2a-b84c001608e1"
      },
      "outputs": [
        {
          "output_type": "execute_result",
          "data": {
            "text/plain": [
              "                                                      url       title  \\\n",
              "count                                               63731       63158   \n",
              "unique                                              63731       58548   \n",
              "top     https://allpoetry.com/poem/17507453-s-q-u-e-l-...  Graduation   \n",
              "freq                                                    1          72   \n",
              "\n",
              "                                                     poem categories  \n",
              "count                                               63400      63731  \n",
              "unique                                              63205      25106  \n",
              "top     I remember\\nIt was the year\\nThe grizzlies ran...         []  \n",
              "freq                                                    8        917  "
            ],
            "text/html": [
              "\n",
              "  <div id=\"df-46661204-cfdc-4283-88b2-3847c2ee2bca\" class=\"colab-df-container\">\n",
              "    <div>\n",
              "<style scoped>\n",
              "    .dataframe tbody tr th:only-of-type {\n",
              "        vertical-align: middle;\n",
              "    }\n",
              "\n",
              "    .dataframe tbody tr th {\n",
              "        vertical-align: top;\n",
              "    }\n",
              "\n",
              "    .dataframe thead th {\n",
              "        text-align: right;\n",
              "    }\n",
              "</style>\n",
              "<table border=\"1\" class=\"dataframe\">\n",
              "  <thead>\n",
              "    <tr style=\"text-align: right;\">\n",
              "      <th></th>\n",
              "      <th>url</th>\n",
              "      <th>title</th>\n",
              "      <th>poem</th>\n",
              "      <th>categories</th>\n",
              "    </tr>\n",
              "  </thead>\n",
              "  <tbody>\n",
              "    <tr>\n",
              "      <th>count</th>\n",
              "      <td>63731</td>\n",
              "      <td>63158</td>\n",
              "      <td>63400</td>\n",
              "      <td>63731</td>\n",
              "    </tr>\n",
              "    <tr>\n",
              "      <th>unique</th>\n",
              "      <td>63731</td>\n",
              "      <td>58548</td>\n",
              "      <td>63205</td>\n",
              "      <td>25106</td>\n",
              "    </tr>\n",
              "    <tr>\n",
              "      <th>top</th>\n",
              "      <td>https://allpoetry.com/poem/17507453-s-q-u-e-l-...</td>\n",
              "      <td>Graduation</td>\n",
              "      <td>I remember\\nIt was the year\\nThe grizzlies ran...</td>\n",
              "      <td>[]</td>\n",
              "    </tr>\n",
              "    <tr>\n",
              "      <th>freq</th>\n",
              "      <td>1</td>\n",
              "      <td>72</td>\n",
              "      <td>8</td>\n",
              "      <td>917</td>\n",
              "    </tr>\n",
              "  </tbody>\n",
              "</table>\n",
              "</div>\n",
              "    <div class=\"colab-df-buttons\">\n",
              "\n",
              "  <div class=\"colab-df-container\">\n",
              "    <button class=\"colab-df-convert\" onclick=\"convertToInteractive('df-46661204-cfdc-4283-88b2-3847c2ee2bca')\"\n",
              "            title=\"Convert this dataframe to an interactive table.\"\n",
              "            style=\"display:none;\">\n",
              "\n",
              "  <svg xmlns=\"http://www.w3.org/2000/svg\" height=\"24px\" viewBox=\"0 -960 960 960\">\n",
              "    <path d=\"M120-120v-720h720v720H120Zm60-500h600v-160H180v160Zm220 220h160v-160H400v160Zm0 220h160v-160H400v160ZM180-400h160v-160H180v160Zm440 0h160v-160H620v160ZM180-180h160v-160H180v160Zm440 0h160v-160H620v160Z\"/>\n",
              "  </svg>\n",
              "    </button>\n",
              "\n",
              "  <style>\n",
              "    .colab-df-container {\n",
              "      display:flex;\n",
              "      gap: 12px;\n",
              "    }\n",
              "\n",
              "    .colab-df-convert {\n",
              "      background-color: #E8F0FE;\n",
              "      border: none;\n",
              "      border-radius: 50%;\n",
              "      cursor: pointer;\n",
              "      display: none;\n",
              "      fill: #1967D2;\n",
              "      height: 32px;\n",
              "      padding: 0 0 0 0;\n",
              "      width: 32px;\n",
              "    }\n",
              "\n",
              "    .colab-df-convert:hover {\n",
              "      background-color: #E2EBFA;\n",
              "      box-shadow: 0px 1px 2px rgba(60, 64, 67, 0.3), 0px 1px 3px 1px rgba(60, 64, 67, 0.15);\n",
              "      fill: #174EA6;\n",
              "    }\n",
              "\n",
              "    .colab-df-buttons div {\n",
              "      margin-bottom: 4px;\n",
              "    }\n",
              "\n",
              "    [theme=dark] .colab-df-convert {\n",
              "      background-color: #3B4455;\n",
              "      fill: #D2E3FC;\n",
              "    }\n",
              "\n",
              "    [theme=dark] .colab-df-convert:hover {\n",
              "      background-color: #434B5C;\n",
              "      box-shadow: 0px 1px 3px 1px rgba(0, 0, 0, 0.15);\n",
              "      filter: drop-shadow(0px 1px 2px rgba(0, 0, 0, 0.3));\n",
              "      fill: #FFFFFF;\n",
              "    }\n",
              "  </style>\n",
              "\n",
              "    <script>\n",
              "      const buttonEl =\n",
              "        document.querySelector('#df-46661204-cfdc-4283-88b2-3847c2ee2bca button.colab-df-convert');\n",
              "      buttonEl.style.display =\n",
              "        google.colab.kernel.accessAllowed ? 'block' : 'none';\n",
              "\n",
              "      async function convertToInteractive(key) {\n",
              "        const element = document.querySelector('#df-46661204-cfdc-4283-88b2-3847c2ee2bca');\n",
              "        const dataTable =\n",
              "          await google.colab.kernel.invokeFunction('convertToInteractive',\n",
              "                                                    [key], {});\n",
              "        if (!dataTable) return;\n",
              "\n",
              "        const docLinkHtml = 'Like what you see? Visit the ' +\n",
              "          '<a target=\"_blank\" href=https://colab.research.google.com/notebooks/data_table.ipynb>data table notebook</a>'\n",
              "          + ' to learn more about interactive tables.';\n",
              "        element.innerHTML = '';\n",
              "        dataTable['output_type'] = 'display_data';\n",
              "        await google.colab.output.renderOutput(dataTable, element);\n",
              "        const docLink = document.createElement('div');\n",
              "        docLink.innerHTML = docLinkHtml;\n",
              "        element.appendChild(docLink);\n",
              "      }\n",
              "    </script>\n",
              "  </div>\n",
              "\n",
              "\n",
              "<div id=\"df-1b625f86-4568-4ae0-86b8-34749a9e42d9\">\n",
              "  <button class=\"colab-df-quickchart\" onclick=\"quickchart('df-1b625f86-4568-4ae0-86b8-34749a9e42d9')\"\n",
              "            title=\"Suggest charts\"\n",
              "            style=\"display:none;\">\n",
              "\n",
              "<svg xmlns=\"http://www.w3.org/2000/svg\" height=\"24px\"viewBox=\"0 0 24 24\"\n",
              "     width=\"24px\">\n",
              "    <g>\n",
              "        <path d=\"M19 3H5c-1.1 0-2 .9-2 2v14c0 1.1.9 2 2 2h14c1.1 0 2-.9 2-2V5c0-1.1-.9-2-2-2zM9 17H7v-7h2v7zm4 0h-2V7h2v10zm4 0h-2v-4h2v4z\"/>\n",
              "    </g>\n",
              "</svg>\n",
              "  </button>\n",
              "\n",
              "<style>\n",
              "  .colab-df-quickchart {\n",
              "      --bg-color: #E8F0FE;\n",
              "      --fill-color: #1967D2;\n",
              "      --hover-bg-color: #E2EBFA;\n",
              "      --hover-fill-color: #174EA6;\n",
              "      --disabled-fill-color: #AAA;\n",
              "      --disabled-bg-color: #DDD;\n",
              "  }\n",
              "\n",
              "  [theme=dark] .colab-df-quickchart {\n",
              "      --bg-color: #3B4455;\n",
              "      --fill-color: #D2E3FC;\n",
              "      --hover-bg-color: #434B5C;\n",
              "      --hover-fill-color: #FFFFFF;\n",
              "      --disabled-bg-color: #3B4455;\n",
              "      --disabled-fill-color: #666;\n",
              "  }\n",
              "\n",
              "  .colab-df-quickchart {\n",
              "    background-color: var(--bg-color);\n",
              "    border: none;\n",
              "    border-radius: 50%;\n",
              "    cursor: pointer;\n",
              "    display: none;\n",
              "    fill: var(--fill-color);\n",
              "    height: 32px;\n",
              "    padding: 0;\n",
              "    width: 32px;\n",
              "  }\n",
              "\n",
              "  .colab-df-quickchart:hover {\n",
              "    background-color: var(--hover-bg-color);\n",
              "    box-shadow: 0 1px 2px rgba(60, 64, 67, 0.3), 0 1px 3px 1px rgba(60, 64, 67, 0.15);\n",
              "    fill: var(--button-hover-fill-color);\n",
              "  }\n",
              "\n",
              "  .colab-df-quickchart-complete:disabled,\n",
              "  .colab-df-quickchart-complete:disabled:hover {\n",
              "    background-color: var(--disabled-bg-color);\n",
              "    fill: var(--disabled-fill-color);\n",
              "    box-shadow: none;\n",
              "  }\n",
              "\n",
              "  .colab-df-spinner {\n",
              "    border: 2px solid var(--fill-color);\n",
              "    border-color: transparent;\n",
              "    border-bottom-color: var(--fill-color);\n",
              "    animation:\n",
              "      spin 1s steps(1) infinite;\n",
              "  }\n",
              "\n",
              "  @keyframes spin {\n",
              "    0% {\n",
              "      border-color: transparent;\n",
              "      border-bottom-color: var(--fill-color);\n",
              "      border-left-color: var(--fill-color);\n",
              "    }\n",
              "    20% {\n",
              "      border-color: transparent;\n",
              "      border-left-color: var(--fill-color);\n",
              "      border-top-color: var(--fill-color);\n",
              "    }\n",
              "    30% {\n",
              "      border-color: transparent;\n",
              "      border-left-color: var(--fill-color);\n",
              "      border-top-color: var(--fill-color);\n",
              "      border-right-color: var(--fill-color);\n",
              "    }\n",
              "    40% {\n",
              "      border-color: transparent;\n",
              "      border-right-color: var(--fill-color);\n",
              "      border-top-color: var(--fill-color);\n",
              "    }\n",
              "    60% {\n",
              "      border-color: transparent;\n",
              "      border-right-color: var(--fill-color);\n",
              "    }\n",
              "    80% {\n",
              "      border-color: transparent;\n",
              "      border-right-color: var(--fill-color);\n",
              "      border-bottom-color: var(--fill-color);\n",
              "    }\n",
              "    90% {\n",
              "      border-color: transparent;\n",
              "      border-bottom-color: var(--fill-color);\n",
              "    }\n",
              "  }\n",
              "</style>\n",
              "\n",
              "  <script>\n",
              "    async function quickchart(key) {\n",
              "      const quickchartButtonEl =\n",
              "        document.querySelector('#' + key + ' button');\n",
              "      quickchartButtonEl.disabled = true;  // To prevent multiple clicks.\n",
              "      quickchartButtonEl.classList.add('colab-df-spinner');\n",
              "      try {\n",
              "        const charts = await google.colab.kernel.invokeFunction(\n",
              "            'suggestCharts', [key], {});\n",
              "      } catch (error) {\n",
              "        console.error('Error during call to suggestCharts:', error);\n",
              "      }\n",
              "      quickchartButtonEl.classList.remove('colab-df-spinner');\n",
              "      quickchartButtonEl.classList.add('colab-df-quickchart-complete');\n",
              "    }\n",
              "    (() => {\n",
              "      let quickchartButtonEl =\n",
              "        document.querySelector('#df-1b625f86-4568-4ae0-86b8-34749a9e42d9 button');\n",
              "      quickchartButtonEl.style.display =\n",
              "        google.colab.kernel.accessAllowed ? 'block' : 'none';\n",
              "    })();\n",
              "  </script>\n",
              "</div>\n",
              "\n",
              "    </div>\n",
              "  </div>\n"
            ]
          },
          "metadata": {},
          "execution_count": 104
        }
      ],
      "source": [
        "data.describe()"
      ]
    },
    {
      "cell_type": "code",
      "execution_count": null,
      "metadata": {
        "colab": {
          "base_uri": "https://localhost:8080/"
        },
        "id": "JuLi7v7xw2vz",
        "outputId": "74bf25b2-657c-422e-a241-e79f2a3df761"
      },
      "outputs": [
        {
          "output_type": "execute_result",
          "data": {
            "text/plain": [
              "url             0\n",
              "title         573\n",
              "poem          331\n",
              "categories      0\n",
              "dtype: int64"
            ]
          },
          "metadata": {},
          "execution_count": 105
        }
      ],
      "source": [
        "data.isnull().sum()"
      ]
    },
    {
      "cell_type": "code",
      "execution_count": null,
      "metadata": {
        "id": "qQdnMx88x5m5"
      },
      "outputs": [],
      "source": [
        "data = data[data['poem'].notnull()]\n",
        "data = data[~data['categories'].isin(['[]'])]"
      ]
    },
    {
      "cell_type": "code",
      "execution_count": null,
      "metadata": {
        "colab": {
          "base_uri": "https://localhost:8080/"
        },
        "id": "a_80rGFBvimn",
        "outputId": "c294ceb8-1d7c-44cf-ec7f-e6a2c37fa89d"
      },
      "outputs": [
        {
          "output_type": "execute_result",
          "data": {
            "text/plain": [
              "(62524, 4)"
            ]
          },
          "metadata": {},
          "execution_count": 107
        }
      ],
      "source": [
        "data.shape"
      ]
    },
    {
      "cell_type": "code",
      "execution_count": null,
      "metadata": {
        "colab": {
          "base_uri": "https://localhost:8080/"
        },
        "id": "6PEm4y-V15B-",
        "outputId": "c7d34b54-d82f-4eac-d54d-17a36ea8f7c5"
      },
      "outputs": [
        {
          "output_type": "execute_result",
          "data": {
            "text/plain": [
              "url             0\n",
              "title         521\n",
              "poem            0\n",
              "categories      0\n",
              "dtype: int64"
            ]
          },
          "metadata": {},
          "execution_count": 108
        }
      ],
      "source": [
        "data.isnull().sum()"
      ]
    },
    {
      "cell_type": "code",
      "execution_count": null,
      "metadata": {
        "id": "rmEA367Pmq3S"
      },
      "outputs": [],
      "source": [
        "# data[data['url'].str.contains('Betweenkittensandriots')]"
      ]
    },
    {
      "cell_type": "code",
      "execution_count": null,
      "metadata": {
        "colab": {
          "base_uri": "https://localhost:8080/",
          "height": 568
        },
        "id": "x_eNWdCYp0g4",
        "outputId": "2ef236a2-4126-431f-904e-6a81a25607cf"
      },
      "outputs": [
        {
          "output_type": "execute_result",
          "data": {
            "text/plain": [
              "Text(0.5, 1.0, 'Histogram of Poem Lengths')"
            ]
          },
          "metadata": {},
          "execution_count": 110
        },
        {
          "output_type": "display_data",
          "data": {
            "text/plain": [
              "<Figure size 1200x600 with 1 Axes>"
            ],
            "image/png": "[encoded data removed]"
          },
          "metadata": {}
        }
      ],
      "source": [
        "data['poem_length'] = data['poem'].apply(len)\n",
        "intervals = [i * 200 for i in range(20)]\n",
        "\n",
        "plt.figure(figsize=(12, 6))\n",
        "plt.hist(data['poem_length'], bins=intervals, edgecolor='black', rwidth=0.8)\n",
        "plt.xticks(intervals)\n",
        "\n",
        "plt.xlabel('Poem Length (Character Count)')\n",
        "plt.ylabel('Frequency')\n",
        "plt.title('Histogram of Poem Lengths')"
      ]
    },
    {
      "cell_type": "code",
      "execution_count": null,
      "metadata": {
        "id": "OBgRYO8K4PCh"
      },
      "outputs": [],
      "source": [
        "def word_count(text):\n",
        "  words = re.findall(r'\\w+', text)\n",
        "  return len(words)"
      ]
    },
    {
      "cell_type": "code",
      "execution_count": null,
      "metadata": {
        "colab": {
          "base_uri": "https://localhost:8080/",
          "height": 550
        },
        "id": "c0WMqcjA4p7Z",
        "outputId": "8756310f-87f1-4847-854d-d0ab4fdd062f"
      },
      "outputs": [
        {
          "output_type": "display_data",
          "data": {
            "text/plain": [
              "<Figure size 1200x600 with 1 Axes>"
            ],
            "image/png": "[encoded data removed]"
          },
          "metadata": {}
        }
      ],
      "source": [
        "data['word_count'] = data['poem'].apply(word_count)\n",
        "intervals = [i * 50 for i in range (20)]\n",
        "\n",
        "plt.figure(figsize=(12, 6))\n",
        "\n",
        "plt.hist(data['word_count'], bins=intervals, edgecolor='black', rwidth=0.8)\n",
        "plt.xlabel('Word Count')\n",
        "plt.ylabel('Frequency')\n",
        "plt.title('Word Count Distribution')\n",
        "plt.xticks(intervals)\n",
        "\n",
        "plt.show()"
      ]
    },
    {
      "cell_type": "code",
      "execution_count": null,
      "metadata": {
        "id": "do0ME-0N-IP8"
      },
      "outputs": [],
      "source": [
        "data['categories'] = data['categories'].apply(literal_eval)  # To convert data types from str to list"
      ]
    },
    {
      "cell_type": "code",
      "execution_count": null,
      "metadata": {
        "id": "2IaluyYE5pfG"
      },
      "outputs": [],
      "source": [
        "unique_cats = set()"
      ]
    },
    {
      "cell_type": "code",
      "execution_count": null,
      "metadata": {
        "id": "NbFVQK4Z6HPh"
      },
      "outputs": [],
      "source": [
        "for cat_list in data['categories']:\n",
        "  for value in cat_list:\n",
        "    unique_cats.add(value)"
      ]
    },
    {
      "cell_type": "code",
      "source": [
        "unique_cats = sorted(list(unique_cats))\n",
        "print(len(unique_cats))\n",
        "print(f\"Unique categories: {unique_cats}\")"
      ],
      "metadata": {
        "colab": {
          "base_uri": "https://localhost:8080/"
        },
        "id": "Arq6lS3vGBpp",
        "outputId": "f6343f5b-d6dc-4c40-97eb-58ba348585d6"
      },
      "execution_count": null,
      "outputs": [
        {
          "output_type": "stream",
          "name": "stdout",
          "text": [
            "232\n",
            "Unique categories: ['acrostic', 'africa', 'alone', 'america', 'angel', 'anger', 'animal', 'anniversary', 'april', 'august', 'autumn', 'baby', 'ballad', 'beach', 'beautiful', 'beauty', 'believe', 'bipolar', 'birth', 'brother', 'butterfly', 'candy', 'car', 'cat', 'change', 'chicago', 'child', 'childhood', 'children', 'chocolate', 'christian', 'christmas', 'cinderella', 'city', 'concrete', 'couplet', 'courage', 'crazy', 'culture', 'dance', 'dark', 'dark-humor', 'daughter', 'death', 'depression', 'despair', 'destiny', 'discrimination', 'dog', 'dream', 'education', 'elegy', 'epic', 'evil', 'fairy', 'faith', 'family', 'farewell', 'fate', 'father', 'fear', 'fire', 'fish', 'fishing', 'flower', 'fog', 'food', 'football', 'freedom', 'friend', 'frog', 'fun', 'funeral', 'funny', 'future', 'girl', 'god', 'golf', 'graduate', 'graduation', 'greed', 'green', 'grief', 'guitar', 'haiku', 'hair', 'happiness', 'happy', 'hate', 'heart', 'heaven', 'hero', 'history', 'holocaust', 'home', 'homework', 'honesty', 'hope', 'horse', 'house', 'howl', 'humor', 'hunting', 'husband', 'identity', 'innocence', 'inspiration', 'irony', 'isolation', 'january', 'journey', 'joy', 'july', 'june', 'justice', 'kiss', 'laughter', 'lgbtq', 'life', 'light', 'limerick', 'london', 'lonely', 'loss', 'lost', 'love', 'lust', 'lyric', 'magic', 'marriage', 'memory', 'mentor', 'metaphor', 'mirror', 'mom', 'money', 'moon', 'mother', 'murder', 'music', 'narrative', 'nature', 'night', 'ocean', 'october', 'ode', 'pain', 'paris', 'passion', 'peace', 'people', 'pink', 'poem', 'poetry', 'poverty', 'power', 'prejudice', 'pride', 'purple', 'racism', 'rain', 'rainbow', 'rape', 'raven', 'red', 'remember', 'respect', 'retirement', 'river', 'romance', 'romantic', 'rose', 'running', 'sad', 'school', 'sea', 'september', 'shopping', 'sick', 'silence', 'silver', 'simile', 'sister', 'sky', 'sleep', 'smart', 'smile', 'snake', 'snow', 'soccer', 'soldier', 'solitude', 'sometimes', 'son', 'song', 'sonnet', 'sorrow', 'sorry', 'spring', 'star', 'strength', 'success', 'suicide', 'summer', 'sun', 'sunset', 'sunshine', 'swimming', 'sympathy', 'teacher', 'television', 'thanks', 'tiger', 'time', 'today', 'together', 'travel', 'tree', 'trust', 'truth', 'valentine', 'war', 'warning', 'water', 'weather', 'wedding', 'wind', 'winter', 'woman', 'women', 'work', 'world']\n"
          ]
        }
      ]
    },
    {
      "cell_type": "code",
      "execution_count": null,
      "metadata": {
        "id": "R_ZfGeei7thN"
      },
      "outputs": [],
      "source": [
        "# Combining similar categories\n",
        "model = SentenceTransformer('all-MiniLM-L6-v2')"
      ]
    },
    {
      "cell_type": "code",
      "source": [
        "pairs = list(combinations(unique_cats, 2))\n",
        "cosine_scores = []\n",
        "for pair in pairs:\n",
        "  cat1 = pair[0]\n",
        "  cat2 = pair[1]\n",
        "  embeddings1 = model.encode(cat1)\n",
        "  embeddings2 = model.encode(cat2)\n",
        "  cosine_score = util.cos_sim(embeddings1, embeddings2)\n",
        "  cosine_scores.append(cosine_score.item())"
      ],
      "metadata": {
        "id": "yW-loYVxHoQJ"
      },
      "execution_count": null,
      "outputs": []
    },
    {
      "cell_type": "code",
      "source": [
        "cosine_scores"
      ],
      "metadata": {
        "id": "GupkIAPZItnV"
      },
      "execution_count": null,
      "outputs": []
    },
    {
      "cell_type": "code",
      "source": [
        "threshold = 0.5\n",
        "new = [(i, cosine_scores[i]) for i in range(len(cosine_scores)) if cosine_scores[i] >= threshold]"
      ],
      "metadata": {
        "id": "vKiVS24RKYox"
      },
      "execution_count": null,
      "outputs": []
    },
    {
      "cell_type": "code",
      "source": [
        "similar_pairs = [pairs[value[0]] for value in new]\n",
        "print(similar_pairs)"
      ],
      "metadata": {
        "colab": {
          "base_uri": "https://localhost:8080/"
        },
        "id": "3r66ZU7yQpJ0",
        "outputId": "2ef95efd-658d-4ff0-933b-0d0460060054"
      },
      "execution_count": null,
      "outputs": [
        {
          "output_type": "stream",
          "name": "stdout",
          "text": [
            "[('africa', 'america'), ('africa', 'world'), ('alone', 'lonely'), ('alone', 'solitude'), ('america', 'culture'), ('america', 'war'), ('america', 'world'), ('anger', 'happiness'), ('anger', 'laughter'), ('anger', 'pain'), ('anger', 'passion'), ('anger', 'sorrow'), ('animal', 'cat'), ('animal', 'dog'), ('animal', 'fish'), ('animal', 'frog'), ('animal', 'horse'), ('animal', 'hunting'), ('animal', 'snake'), ('animal', 'tiger'), ('anniversary', 'romantic'), ('anniversary', 'valentine'), ('april', 'august'), ('april', 'january'), ('april', 'july'), ('april', 'june'), ('april', 'october'), ('april', 'september'), ('april', 'spring'), ('april', 'summer'), ('april', 'today'), ('august', 'autumn'), ('august', 'january'), ('august', 'july'), ('august', 'june'), ('august', 'october'), ('august', 'september'), ('august', 'summer'), ('autumn', 'october'), ('autumn', 'rain'), ('autumn', 'september'), ('autumn', 'snow'), ('autumn', 'spring'), ('autumn', 'summer'), ('autumn', 'sunset'), ('autumn', 'winter'), ('baby', 'birth'), ('baby', 'brother'), ('baby', 'child'), ('baby', 'girl'), ('baby', 'mom'), ('baby', 'son'), ('ballad', 'lyric'), ('ballad', 'music'), ('ballad', 'poem'), ('ballad', 'poetry'), ('ballad', 'song'), ('beach', 'moon'), ('beach', 'ocean'), ('beach', 'sea'), ('beautiful', 'beauty'), ('beautiful', 'happy'), ('beautiful', 'thanks'), ('beauty', 'love'), ('believe', 'faith'), ('believe', 'truth'), ('bipolar', 'depression'), ('birth', 'child'), ('birth', 'childhood'), ('birth', 'daughter'), ('birth', 'father'), ('birth', 'mother'), ('brother', 'friend'), ('brother', 'sister'), ('brother', 'son'), ('butterfly', 'cinderella'), ('butterfly', 'frog'), ('candy', 'chocolate'), ('candy', 'food'), ('car', 'food'), ('cat', 'dog'), ('cat', 'frog'), ('cat', 'snake'), ('cat', 'tiger'), ('chicago', 'city'), ('chicago', 'london'), ('chicago', 'paris'), ('child', 'childhood'), ('child', 'children'), ('child', 'daughter'), ('child', 'father'), ('child', 'girl'), ('child', 'mom'), ('child', 'mother'), ('child', 'son'), ('childhood', 'children'), ('childhood', 'daughter'), ('childhood', 'life'), ('childhood', 'school'), ('children', 'daughter'), ('children', 'people'), ('chocolate', 'food'), ('christian', 'faith'), ('christmas', 'january'), ('christmas', 'october'), ('christmas', 'september'), ('christmas', 'shopping'), ('christmas', 'snow'), ('christmas', 'valentine'), ('christmas', 'winter'), ('cinderella', 'fairy'), ('city', 'london'), ('city', 'paris'), ('courage', 'fear'), ('courage', 'freedom'), ('courage', 'inspiration'), ('courage', 'passion'), ('courage', 'pride'), ('courage', 'strength'), ('culture', 'education'), ('culture', 'racism'), ('culture', 'television'), ('dance', 'music'), ('dark', 'dark-humor'), ('dark', 'light'), ('dark', 'night'), ('dark', 'rain'), ('dark', 'sun'), ('dark', 'sunset'), ('dark-humor', 'humor'), ('dark-humor', 'laughter'), ('daughter', 'father'), ('daughter', 'girl'), ('daughter', 'husband'), ('daughter', 'mom'), ('daughter', 'mother'), ('daughter', 'sister'), ('daughter', 'son'), ('death', 'fire'), ('death', 'funeral'), ('death', 'grief'), ('death', 'heaven'), ('death', 'life'), ('death', 'loss'), ('death', 'murder'), ('death', 'pain'), ('death', 'rape'), ('death', 'suicide'), ('death', 'war'), ('depression', 'despair'), ('depression', 'grief'), ('depression', 'happiness'), ('depression', 'sorrow'), ('depression', 'suicide'), ('despair', 'grief'), ('despair', 'sorrow'), ('despair', 'suicide'), ('despair', 'sympathy'), ('destiny', 'fate'), ('destiny', 'journey'), ('discrimination', 'prejudice'), ('discrimination', 'racism'), ('dog', 'horse'), ('dog', 'snake'), ('dog', 'tiger'), ('education', 'graduate'), ('education', 'graduation'), ('education', 'money'), ('education', 'school'), ('education', 'teacher'), ('epic', 'hero'), ('evil', 'hate'), ('faith', 'trust'), ('family', 'father'), ('family', 'home'), ('family', 'house'), ('family', 'husband'), ('family', 'mom'), ('family', 'mother'), ('family', 'people'), ('family', 'sister'), ('fate', 'future'), ('father', 'husband'), ('father', 'mom'), ('father', 'mother'), ('father', 'sister'), ('father', 'son'), ('fire', 'magic'), ('fire', 'murder'), ('fire', 'power'), ('fire', 'war'), ('fish', 'fishing'), ('fish', 'food'), ('fish', 'frog'), ('fish', 'ocean'), ('fish', 'sea'), ('fish', 'water'), ('fishing', 'hunting'), ('fishing', 'sea'), ('flower', 'pink'), ('flower', 'poem'), ('flower', 'rose'), ('fog', 'rain'), ('fog', 'wind'), ('food', 'money'), ('food', 'school'), ('food', 'television'), ('food', 'water'), ('football', 'golf'), ('football', 'school'), ('football', 'soccer'), ('football', 'television'), ('frog', 'snake'), ('frog', 'tiger'), ('fun', 'funny'), ('fun', 'humor'), ('fun', 'laughter'), ('funeral', 'grief'), ('funeral', 'murder'), ('funeral', 'suicide'), ('funny', 'humor'), ('funny', 'laughter'), ('funny', 'sad'), ('girl', 'sister'), ('girl', 'woman'), ('golf', 'soccer'), ('graduate', 'graduation'), ('graduate', 'school'), ('graduation', 'school'), ('greed', 'money'), ('greed', 'poverty'), ('green', 'pink'), ('green', 'purple'), ('green', 'rainbow'), ('green', 'red'), ('grief', 'loss'), ('grief', 'sorrow'), ('grief', 'suicide'), ('grief', 'sympathy'), ('guitar', 'music'), ('haiku', 'limerick'), ('haiku', 'poem'), ('haiku', 'poetry'), ('happiness', 'happy'), ('happiness', 'heart'), ('happiness', 'joy'), ('happiness', 'laughter'), ('happiness', 'life'), ('happiness', 'love'), ('happiness', 'marriage'), ('happiness', 'money'), ('happiness', 'peace'), ('happiness', 'pride'), ('happiness', 'smile'), ('happiness', 'suicide'), ('happy', 'joy'), ('happy', 'love'), ('happy', 'smile'), ('hate', 'racism'), ('heart', 'honesty'), ('heart', 'love'), ('heart', 'pain'), ('heart', 'passion'), ('heaven', 'home'), ('heaven', 'life'), ('history', 'war'), ('holocaust', 'murder'), ('holocaust', 'war'), ('home', 'house'), ('home', 'husband'), ('home', 'school'), ('homework', 'school'), ('homework', 'work'), ('honesty', 'trust'), ('honesty', 'truth'), ('hope', 'sad'), ('horse', 'snake'), ('house', 'husband'), ('humor', 'irony'), ('humor', 'laughter'), ('husband', 'marriage'), ('husband', 'mom'), ('husband', 'mother'), ('husband', 'sister'), ('innocence', 'justice'), ('innocence', 'murder'), ('innocence', 'rape'), ('inspiration', 'passion'), ('isolation', 'solitude'), ('january', 'july'), ('january', 'june'), ('january', 'october'), ('january', 'september'), ('january', 'spring'), ('january', 'winter'), ('journey', 'travel'), ('joy', 'laughter'), ('joy', 'love'), ('joy', 'sorrow'), ('july', 'june'), ('july', 'october'), ('july', 'september'), ('july', 'summer'), ('june', 'october'), ('june', 'september'), ('june', 'spring'), ('june', 'summer'), ('justice', 'murder'), ('kiss', 'love'), ('kiss', 'marriage'), ('kiss', 'romance'), ('kiss', 'smile'), ('laughter', 'pain'), ('laughter', 'smile'), ('life', 'love'), ('life', 'money'), ('life', 'suicide'), ('life', 'world'), ('light', 'power'), ('light', 'sun'), ('limerick', 'poem'), ('limerick', 'poetry'), ('london', 'paris'), ('lonely', 'suicide'), ('lonely', 'together'), ('loss', 'lost'), ('love', 'lust'), ('love', 'marriage'), ('love', 'passion'), ('love', 'romance'), ('love', 'romantic'), ('love', 'together'), ('lust', 'passion'), ('lyric', 'poem'), ('lyric', 'poetry'), ('lyric', 'song'), ('marriage', 'romance'), ('marriage', 'romantic'), ('marriage', 'wedding'), ('mentor', 'teacher'), ('metaphor', 'simile'), ('mom', 'mother'), ('mom', 'sister'), ('mom', 'son'), ('money', 'school'), ('money', 'television'), ('money', 'war'), ('money', 'work'), ('moon', 'sky'), ('mother', 'sister'), ('mother', 'woman'), ('murder', 'rape'), ('murder', 'suicide'), ('music', 'song'), ('music', 'television'), ('nature', 'ocean'), ('night', 'sleep'), ('night', 'sunset'), ('ocean', 'sea'), ('ocean', 'swimming'), ('ocean', 'water'), ('october', 'september'), ('peace', 'respect'), ('peace', 'silence'), ('peace', 'war'), ('people', 'women'), ('pink', 'purple'), ('pink', 'rainbow'), ('pink', 'red'), ('poem', 'poetry'), ('poem', 'sorrow'), ('power', 'strength'), ('prejudice', 'racism'), ('purple', 'rainbow'), ('purple', 'red'), ('rain', 'rainbow'), ('rain', 'sky'), ('rain', 'snow'), ('rain', 'water'), ('rain', 'weather'), ('rain', 'wind'), ('rain', 'winter'), ('rainbow', 'sunshine'), ('rape', 'suicide'), ('river', 'sea'), ('river', 'water'), ('romance', 'romantic'), ('romance', 'together'), ('romance', 'valentine'), ('romantic', 'valentine'), ('running', 'swimming'), ('school', 'teacher'), ('sea', 'swimming'), ('sea', 'water'), ('september', 'summer'), ('sky', 'sun'), ('sky', 'sunset'), ('sky', 'sunshine'), ('sky', 'wind'), ('snake', 'tiger'), ('snow', 'weather'), ('snow', 'winter'), ('soccer', 'swimming'), ('soldier', 'war'), ('sorrow', 'sympathy'), ('spring', 'summer'), ('spring', 'winter'), ('star', 'sun'), ('summer', 'sunset'), ('summer', 'sunshine'), ('summer', 'winter'), ('sun', 'sunset'), ('sun', 'sunshine'), ('sunset', 'sunshine'), ('swimming', 'water'), ('weather', 'wind'), ('weather', 'winter'), ('woman', 'women')]\n"
          ]
        }
      ]
    },
    {
      "cell_type": "code",
      "source": [
        "with open('similar_pairs.txt', 'w') as f:\n",
        "  for pair in similar_pairs:\n",
        "    f.write(f'{pair[0]}, {pair[1]}\\n')"
      ],
      "metadata": {
        "id": "lZMNNo56QqSa"
      },
      "execution_count": null,
      "outputs": []
    },
    {
      "cell_type": "code",
      "source": [],
      "metadata": {
        "id": "YZEuobLTfJGE"
      },
      "execution_count": null,
      "outputs": []
    }
  ],
  "metadata": {
    "colab": {
      "provenance": [],
      "authorship_tag": "ABX9TyMja8FnU8KcqTq6OJ6Hm00o",
      "include_colab_link": true
    },
    "kernelspec": {
      "display_name": "Python 3",
      "name": "python3"
    },
    "language_info": {
      "name": "python"
    }
  },
  "nbformat": 4,
  "nbformat_minor": 0
}